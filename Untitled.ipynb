{
 "cells": [
  {
   "cell_type": "code",
   "execution_count": 1,
   "id": "d49c70be",
   "metadata": {},
   "outputs": [],
   "source": [
    "import numpy as np\n",
    "import pandas as pd\n",
    "import tensorflow as tf\n",
    "from tensorflow import keras\n",
    "from settings import Settings\n",
    "from sklearn.model_selection import train_test_split\n",
    "from models import create_FM"
   ]
  },
  {
   "cell_type": "code",
   "execution_count": 2,
   "id": "81c23d99",
   "metadata": {},
   "outputs": [],
   "source": [
    "settings = Settings()\n",
    "df = pd.read_csv('data/train_1m.txt', sep='\\t')\n",
    "df = df.sample(n=100000, ignore_index=True)\n",
    "df[settings.dense_feature] = df[settings.dense_feature].fillna(0)\n",
    "df[settings.cat_feature] = df[settings.cat_feature].fillna('-1')\n",
    "\n",
    "# 生成数据集\n",
    "BATCH_SIZE = 1024\n",
    "label = df.pop('label')\n",
    "\n",
    "x_train, x_test, y_train, y_test = train_test_split(df, label, test_size=0.2)\n",
    "\n",
    "train_ds = tf.data.Dataset.from_tensor_slices((dict(x_train), y_train)).batch(BATCH_SIZE)\n",
    "test_ds = tf.data.Dataset.from_tensor_slices((dict(x_test), y_test)).batch(BATCH_SIZE)"
   ]
  },
  {
   "cell_type": "code",
   "execution_count": 4,
   "id": "f0223e2d",
   "metadata": {},
   "outputs": [],
   "source": [
    "\n",
    "model = create_FM(df, settings)\n",
    "model.compile( optimizer='adam', loss='binary_crossentropy', metrics=[keras.metrics.AUC()])"
   ]
  },
  {
   "cell_type": "code",
   "execution_count": 7,
   "id": "289f01b0",
   "metadata": {},
   "outputs": [
    {
     "name": "stdout",
     "output_type": "stream",
     "text": [
      "Epoch 1/10\n",
      "79/79 [==============================] - 13s 161ms/step - loss: 1.0971 - auc: 0.8205 - val_loss: 1.6281 - val_auc: 0.6950\n",
      "Epoch 2/10\n",
      "79/79 [==============================] - 13s 162ms/step - loss: 1.0776 - auc: 0.8206 - val_loss: 1.3141 - val_auc: 0.7033\n",
      "Epoch 3/10\n",
      "79/79 [==============================] - 13s 162ms/step - loss: 1.0310 - auc: 0.8230 - val_loss: 1.0169 - val_auc: 0.7117\n",
      "Epoch 4/10\n",
      "79/79 [==============================] - 13s 163ms/step - loss: 1.0490 - auc: 0.8218 - val_loss: 0.8676 - val_auc: 0.7142\n",
      "Epoch 5/10\n",
      "79/79 [==============================] - 13s 161ms/step - loss: 0.8532 - auc: 0.8356 - val_loss: 0.9064 - val_auc: 0.7069\n",
      "Epoch 6/10\n",
      "79/79 [==============================] - 12s 158ms/step - loss: 1.0923 - auc: 0.8128 - val_loss: 1.2004 - val_auc: 0.7023\n",
      "Epoch 7/10\n",
      "79/79 [==============================] - 13s 162ms/step - loss: 0.9981 - auc: 0.8223 - val_loss: 1.2922 - val_auc: 0.6994\n",
      "Epoch 8/10\n",
      "79/79 [==============================] - 13s 159ms/step - loss: 0.7579 - auc: 0.8464 - val_loss: 0.9433 - val_auc: 0.7052\n",
      "Epoch 9/10\n",
      "79/79 [==============================] - 13s 160ms/step - loss: 0.9466 - auc: 0.8280 - val_loss: 1.0407 - val_auc: 0.7103\n",
      "Epoch 10/10\n",
      "79/79 [==============================] - 13s 159ms/step - loss: 0.9370 - auc: 0.8288 - val_loss: 1.0993 - val_auc: 0.7023\n"
     ]
    }
   ],
   "source": [
    "history = model.fit(train_ds, epochs=10, validation_data=test_ds)"
   ]
  }
 ],
 "metadata": {
  "kernelspec": {
   "display_name": "tf_kernel",
   "language": "python",
   "name": "tf_kernel"
  },
  "language_info": {
   "codemirror_mode": {
    "name": "ipython",
    "version": 3
   },
   "file_extension": ".py",
   "mimetype": "text/x-python",
   "name": "python",
   "nbconvert_exporter": "python",
   "pygments_lexer": "ipython3",
   "version": "3.9.7"
  }
 },
 "nbformat": 4,
 "nbformat_minor": 5
}
